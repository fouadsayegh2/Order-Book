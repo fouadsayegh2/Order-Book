{
 "cells": [
  {
   "cell_type": "code",
   "execution_count": 1,
   "id": "d1744fa3",
   "metadata": {},
   "outputs": [],
   "source": [
    "import pandas as pd\n",
    "from viz_utils import *\n",
    "import numpy as np\n",
    "\n"
   ]
  },
  {
   "cell_type": "code",
   "execution_count": 2,
   "id": "420e56b3",
   "metadata": {},
   "outputs": [
    {
     "data": {
      "text/html": [
       "<div>\n",
       "<style scoped>\n",
       "    .dataframe tbody tr th:only-of-type {\n",
       "        vertical-align: middle;\n",
       "    }\n",
       "\n",
       "    .dataframe tbody tr th {\n",
       "        vertical-align: top;\n",
       "    }\n",
       "\n",
       "    .dataframe thead th {\n",
       "        text-align: right;\n",
       "    }\n",
       "</style>\n",
       "<table border=\"1\" class=\"dataframe\">\n",
       "  <thead>\n",
       "    <tr style=\"text-align: right;\">\n",
       "      <th></th>\n",
       "      <th>arrival_timestamp</th>\n",
       "      <th>Source</th>\n",
       "      <th>StockId</th>\n",
       "      <th>SeqNo</th>\n",
       "      <th>EntryType</th>\n",
       "      <th>OrderbookStateCode</th>\n",
       "      <th>OrderbookFlush</th>\n",
       "      <th>BidPrice0</th>\n",
       "      <th>BidSize0</th>\n",
       "      <th>BidOrders0</th>\n",
       "      <th>...</th>\n",
       "      <th>HighTradePrice</th>\n",
       "      <th>LowTradePrice</th>\n",
       "      <th>AverageTradePrice</th>\n",
       "      <th>LastTradedVolume</th>\n",
       "      <th>AverageVolume</th>\n",
       "      <th>OnMarketVolume</th>\n",
       "      <th>OffMarketVolume</th>\n",
       "      <th>TstTradeCount</th>\n",
       "      <th>event_id</th>\n",
       "      <th>shift_tradeside</th>\n",
       "    </tr>\n",
       "    <tr>\n",
       "      <th>timestamp</th>\n",
       "      <th></th>\n",
       "      <th></th>\n",
       "      <th></th>\n",
       "      <th></th>\n",
       "      <th></th>\n",
       "      <th></th>\n",
       "      <th></th>\n",
       "      <th></th>\n",
       "      <th></th>\n",
       "      <th></th>\n",
       "      <th></th>\n",
       "      <th></th>\n",
       "      <th></th>\n",
       "      <th></th>\n",
       "      <th></th>\n",
       "      <th></th>\n",
       "      <th></th>\n",
       "      <th></th>\n",
       "      <th></th>\n",
       "      <th></th>\n",
       "      <th></th>\n",
       "    </tr>\n",
       "  </thead>\n",
       "  <tbody>\n",
       "    <tr>\n",
       "      <th>2025-01-12 04:01:21.982695</th>\n",
       "      <td>2025-01-12 08:31:03.816370010</td>\n",
       "      <td>tdwl</td>\n",
       "      <td>2222</td>\n",
       "      <td>13847</td>\n",
       "      <td>1</td>\n",
       "      <td>NaN</td>\n",
       "      <td>1</td>\n",
       "      <td>NaN</td>\n",
       "      <td>NaN</td>\n",
       "      <td>NaN</td>\n",
       "      <td>...</td>\n",
       "      <td>NaN</td>\n",
       "      <td>NaN</td>\n",
       "      <td>NaN</td>\n",
       "      <td>NaN</td>\n",
       "      <td>NaN</td>\n",
       "      <td>NaN</td>\n",
       "      <td>NaN</td>\n",
       "      <td>NaN</td>\n",
       "      <td>0</td>\n",
       "      <td>NaN</td>\n",
       "    </tr>\n",
       "    <tr>\n",
       "      <th>2025-01-12 09:30:00.000005</th>\n",
       "      <td>2025-01-12 09:30:00.102878332</td>\n",
       "      <td>tdwl</td>\n",
       "      <td>2222</td>\n",
       "      <td>18259</td>\n",
       "      <td>1</td>\n",
       "      <td>4.0</td>\n",
       "      <td>0</td>\n",
       "      <td>27.95</td>\n",
       "      <td>462.0</td>\n",
       "      <td>8.0</td>\n",
       "      <td>...</td>\n",
       "      <td>NaN</td>\n",
       "      <td>NaN</td>\n",
       "      <td>NaN</td>\n",
       "      <td>NaN</td>\n",
       "      <td>NaN</td>\n",
       "      <td>NaN</td>\n",
       "      <td>NaN</td>\n",
       "      <td>NaN</td>\n",
       "      <td>1</td>\n",
       "      <td>NaN</td>\n",
       "    </tr>\n",
       "    <tr>\n",
       "      <th>2025-01-12 09:30:00.131449</th>\n",
       "      <td>2025-01-12 09:30:00.166012763</td>\n",
       "      <td>tdwl</td>\n",
       "      <td>2222</td>\n",
       "      <td>18629</td>\n",
       "      <td>1</td>\n",
       "      <td>4.0</td>\n",
       "      <td>0</td>\n",
       "      <td>27.95</td>\n",
       "      <td>482.0</td>\n",
       "      <td>9.0</td>\n",
       "      <td>...</td>\n",
       "      <td>NaN</td>\n",
       "      <td>NaN</td>\n",
       "      <td>NaN</td>\n",
       "      <td>NaN</td>\n",
       "      <td>NaN</td>\n",
       "      <td>NaN</td>\n",
       "      <td>NaN</td>\n",
       "      <td>NaN</td>\n",
       "      <td>2</td>\n",
       "      <td>NaN</td>\n",
       "    </tr>\n",
       "    <tr>\n",
       "      <th>2025-01-12 09:30:00.137941</th>\n",
       "      <td>2025-01-12 09:30:00.166704893</td>\n",
       "      <td>tdwl</td>\n",
       "      <td>2222</td>\n",
       "      <td>18638</td>\n",
       "      <td>1</td>\n",
       "      <td>4.0</td>\n",
       "      <td>0</td>\n",
       "      <td>27.95</td>\n",
       "      <td>485.0</td>\n",
       "      <td>10.0</td>\n",
       "      <td>...</td>\n",
       "      <td>NaN</td>\n",
       "      <td>NaN</td>\n",
       "      <td>NaN</td>\n",
       "      <td>NaN</td>\n",
       "      <td>NaN</td>\n",
       "      <td>NaN</td>\n",
       "      <td>NaN</td>\n",
       "      <td>NaN</td>\n",
       "      <td>3</td>\n",
       "      <td>NaN</td>\n",
       "    </tr>\n",
       "    <tr>\n",
       "      <th>2025-01-12 09:30:00.146260</th>\n",
       "      <td>2025-01-12 09:30:00.169140577</td>\n",
       "      <td>tdwl</td>\n",
       "      <td>2222</td>\n",
       "      <td>18665</td>\n",
       "      <td>1</td>\n",
       "      <td>4.0</td>\n",
       "      <td>0</td>\n",
       "      <td>28.00</td>\n",
       "      <td>78.0</td>\n",
       "      <td>1.0</td>\n",
       "      <td>...</td>\n",
       "      <td>NaN</td>\n",
       "      <td>NaN</td>\n",
       "      <td>NaN</td>\n",
       "      <td>NaN</td>\n",
       "      <td>NaN</td>\n",
       "      <td>NaN</td>\n",
       "      <td>NaN</td>\n",
       "      <td>NaN</td>\n",
       "      <td>4</td>\n",
       "      <td>NaN</td>\n",
       "    </tr>\n",
       "    <tr>\n",
       "      <th>...</th>\n",
       "      <td>...</td>\n",
       "      <td>...</td>\n",
       "      <td>...</td>\n",
       "      <td>...</td>\n",
       "      <td>...</td>\n",
       "      <td>...</td>\n",
       "      <td>...</td>\n",
       "      <td>...</td>\n",
       "      <td>...</td>\n",
       "      <td>...</td>\n",
       "      <td>...</td>\n",
       "      <td>...</td>\n",
       "      <td>...</td>\n",
       "      <td>...</td>\n",
       "      <td>...</td>\n",
       "      <td>...</td>\n",
       "      <td>...</td>\n",
       "      <td>...</td>\n",
       "      <td>...</td>\n",
       "      <td>...</td>\n",
       "      <td>...</td>\n",
       "    </tr>\n",
       "    <tr>\n",
       "      <th>2025-01-12 15:19:42.707004</th>\n",
       "      <td>2025-01-12 15:19:42.704854249</td>\n",
       "      <td>tdwl</td>\n",
       "      <td>2222</td>\n",
       "      <td>2528680</td>\n",
       "      <td>1</td>\n",
       "      <td>33.0</td>\n",
       "      <td>0</td>\n",
       "      <td>28.00</td>\n",
       "      <td>1394964.0</td>\n",
       "      <td>271.0</td>\n",
       "      <td>...</td>\n",
       "      <td>NaN</td>\n",
       "      <td>NaN</td>\n",
       "      <td>NaN</td>\n",
       "      <td>NaN</td>\n",
       "      <td>NaN</td>\n",
       "      <td>NaN</td>\n",
       "      <td>NaN</td>\n",
       "      <td>NaN</td>\n",
       "      <td>31560</td>\n",
       "      <td>NaN</td>\n",
       "    </tr>\n",
       "    <tr>\n",
       "      <th>2025-01-12 15:19:44.592597</th>\n",
       "      <td>2025-01-12 15:19:44.590407133</td>\n",
       "      <td>tdwl</td>\n",
       "      <td>2222</td>\n",
       "      <td>2528721</td>\n",
       "      <td>1</td>\n",
       "      <td>33.0</td>\n",
       "      <td>0</td>\n",
       "      <td>28.00</td>\n",
       "      <td>1395164.0</td>\n",
       "      <td>272.0</td>\n",
       "      <td>...</td>\n",
       "      <td>NaN</td>\n",
       "      <td>NaN</td>\n",
       "      <td>NaN</td>\n",
       "      <td>NaN</td>\n",
       "      <td>NaN</td>\n",
       "      <td>NaN</td>\n",
       "      <td>NaN</td>\n",
       "      <td>NaN</td>\n",
       "      <td>31561</td>\n",
       "      <td>NaN</td>\n",
       "    </tr>\n",
       "    <tr>\n",
       "      <th>2025-01-12 15:19:47.773931</th>\n",
       "      <td>2025-01-12 15:19:47.771745443</td>\n",
       "      <td>tdwl</td>\n",
       "      <td>2222</td>\n",
       "      <td>2528793</td>\n",
       "      <td>2</td>\n",
       "      <td>33.0</td>\n",
       "      <td>0</td>\n",
       "      <td>28.00</td>\n",
       "      <td>1395164.0</td>\n",
       "      <td>272.0</td>\n",
       "      <td>...</td>\n",
       "      <td>NaN</td>\n",
       "      <td>NaN</td>\n",
       "      <td>NaN</td>\n",
       "      <td>NaN</td>\n",
       "      <td>NaN</td>\n",
       "      <td>NaN</td>\n",
       "      <td>NaN</td>\n",
       "      <td>NaN</td>\n",
       "      <td>31562</td>\n",
       "      <td>NaN</td>\n",
       "    </tr>\n",
       "    <tr>\n",
       "      <th>2025-01-12 15:19:47.773931</th>\n",
       "      <td>2025-01-12 15:19:47.771776437</td>\n",
       "      <td>tdwl</td>\n",
       "      <td>2222</td>\n",
       "      <td>2528794</td>\n",
       "      <td>4</td>\n",
       "      <td>33.0</td>\n",
       "      <td>0</td>\n",
       "      <td>28.00</td>\n",
       "      <td>1395164.0</td>\n",
       "      <td>272.0</td>\n",
       "      <td>...</td>\n",
       "      <td>28.1</td>\n",
       "      <td>27.95</td>\n",
       "      <td>NaN</td>\n",
       "      <td>22012.0</td>\n",
       "      <td>676.7705</td>\n",
       "      <td>6193127.0</td>\n",
       "      <td>NaN</td>\n",
       "      <td>9151.0</td>\n",
       "      <td>31563</td>\n",
       "      <td>1.0</td>\n",
       "    </tr>\n",
       "    <tr>\n",
       "      <th>2025-01-12 15:19:47.773931</th>\n",
       "      <td>2025-01-12 15:19:47.772315740</td>\n",
       "      <td>tdwl</td>\n",
       "      <td>2222</td>\n",
       "      <td>2528799</td>\n",
       "      <td>1</td>\n",
       "      <td>33.0</td>\n",
       "      <td>0</td>\n",
       "      <td>28.00</td>\n",
       "      <td>1373152.0</td>\n",
       "      <td>272.0</td>\n",
       "      <td>...</td>\n",
       "      <td>NaN</td>\n",
       "      <td>NaN</td>\n",
       "      <td>NaN</td>\n",
       "      <td>NaN</td>\n",
       "      <td>NaN</td>\n",
       "      <td>NaN</td>\n",
       "      <td>NaN</td>\n",
       "      <td>NaN</td>\n",
       "      <td>31564</td>\n",
       "      <td>NaN</td>\n",
       "    </tr>\n",
       "  </tbody>\n",
       "</table>\n",
       "<p>31565 rows × 448 columns</p>\n",
       "</div>"
      ],
      "text/plain": [
       "                                        arrival_timestamp Source  StockId  \\\n",
       "timestamp                                                                   \n",
       "2025-01-12 04:01:21.982695  2025-01-12 08:31:03.816370010   tdwl     2222   \n",
       "2025-01-12 09:30:00.000005  2025-01-12 09:30:00.102878332   tdwl     2222   \n",
       "2025-01-12 09:30:00.131449  2025-01-12 09:30:00.166012763   tdwl     2222   \n",
       "2025-01-12 09:30:00.137941  2025-01-12 09:30:00.166704893   tdwl     2222   \n",
       "2025-01-12 09:30:00.146260  2025-01-12 09:30:00.169140577   tdwl     2222   \n",
       "...                                                   ...    ...      ...   \n",
       "2025-01-12 15:19:42.707004  2025-01-12 15:19:42.704854249   tdwl     2222   \n",
       "2025-01-12 15:19:44.592597  2025-01-12 15:19:44.590407133   tdwl     2222   \n",
       "2025-01-12 15:19:47.773931  2025-01-12 15:19:47.771745443   tdwl     2222   \n",
       "2025-01-12 15:19:47.773931  2025-01-12 15:19:47.771776437   tdwl     2222   \n",
       "2025-01-12 15:19:47.773931  2025-01-12 15:19:47.772315740   tdwl     2222   \n",
       "\n",
       "                              SeqNo  EntryType  OrderbookStateCode  \\\n",
       "timestamp                                                            \n",
       "2025-01-12 04:01:21.982695    13847          1                 NaN   \n",
       "2025-01-12 09:30:00.000005    18259          1                 4.0   \n",
       "2025-01-12 09:30:00.131449    18629          1                 4.0   \n",
       "2025-01-12 09:30:00.137941    18638          1                 4.0   \n",
       "2025-01-12 09:30:00.146260    18665          1                 4.0   \n",
       "...                             ...        ...                 ...   \n",
       "2025-01-12 15:19:42.707004  2528680          1                33.0   \n",
       "2025-01-12 15:19:44.592597  2528721          1                33.0   \n",
       "2025-01-12 15:19:47.773931  2528793          2                33.0   \n",
       "2025-01-12 15:19:47.773931  2528794          4                33.0   \n",
       "2025-01-12 15:19:47.773931  2528799          1                33.0   \n",
       "\n",
       "                            OrderbookFlush  BidPrice0   BidSize0  BidOrders0  \\\n",
       "timestamp                                                                      \n",
       "2025-01-12 04:01:21.982695               1        NaN        NaN         NaN   \n",
       "2025-01-12 09:30:00.000005               0      27.95      462.0         8.0   \n",
       "2025-01-12 09:30:00.131449               0      27.95      482.0         9.0   \n",
       "2025-01-12 09:30:00.137941               0      27.95      485.0        10.0   \n",
       "2025-01-12 09:30:00.146260               0      28.00       78.0         1.0   \n",
       "...                                    ...        ...        ...         ...   \n",
       "2025-01-12 15:19:42.707004               0      28.00  1394964.0       271.0   \n",
       "2025-01-12 15:19:44.592597               0      28.00  1395164.0       272.0   \n",
       "2025-01-12 15:19:47.773931               0      28.00  1395164.0       272.0   \n",
       "2025-01-12 15:19:47.773931               0      28.00  1395164.0       272.0   \n",
       "2025-01-12 15:19:47.773931               0      28.00  1373152.0       272.0   \n",
       "\n",
       "                            ...  HighTradePrice  LowTradePrice  \\\n",
       "timestamp                   ...                                  \n",
       "2025-01-12 04:01:21.982695  ...             NaN            NaN   \n",
       "2025-01-12 09:30:00.000005  ...             NaN            NaN   \n",
       "2025-01-12 09:30:00.131449  ...             NaN            NaN   \n",
       "2025-01-12 09:30:00.137941  ...             NaN            NaN   \n",
       "2025-01-12 09:30:00.146260  ...             NaN            NaN   \n",
       "...                         ...             ...            ...   \n",
       "2025-01-12 15:19:42.707004  ...             NaN            NaN   \n",
       "2025-01-12 15:19:44.592597  ...             NaN            NaN   \n",
       "2025-01-12 15:19:47.773931  ...             NaN            NaN   \n",
       "2025-01-12 15:19:47.773931  ...            28.1          27.95   \n",
       "2025-01-12 15:19:47.773931  ...             NaN            NaN   \n",
       "\n",
       "                            AverageTradePrice  LastTradedVolume  \\\n",
       "timestamp                                                         \n",
       "2025-01-12 04:01:21.982695                NaN               NaN   \n",
       "2025-01-12 09:30:00.000005                NaN               NaN   \n",
       "2025-01-12 09:30:00.131449                NaN               NaN   \n",
       "2025-01-12 09:30:00.137941                NaN               NaN   \n",
       "2025-01-12 09:30:00.146260                NaN               NaN   \n",
       "...                                       ...               ...   \n",
       "2025-01-12 15:19:42.707004                NaN               NaN   \n",
       "2025-01-12 15:19:44.592597                NaN               NaN   \n",
       "2025-01-12 15:19:47.773931                NaN               NaN   \n",
       "2025-01-12 15:19:47.773931                NaN           22012.0   \n",
       "2025-01-12 15:19:47.773931                NaN               NaN   \n",
       "\n",
       "                            AverageVolume  OnMarketVolume  OffMarketVolume  \\\n",
       "timestamp                                                                    \n",
       "2025-01-12 04:01:21.982695            NaN             NaN              NaN   \n",
       "2025-01-12 09:30:00.000005            NaN             NaN              NaN   \n",
       "2025-01-12 09:30:00.131449            NaN             NaN              NaN   \n",
       "2025-01-12 09:30:00.137941            NaN             NaN              NaN   \n",
       "2025-01-12 09:30:00.146260            NaN             NaN              NaN   \n",
       "...                                   ...             ...              ...   \n",
       "2025-01-12 15:19:42.707004            NaN             NaN              NaN   \n",
       "2025-01-12 15:19:44.592597            NaN             NaN              NaN   \n",
       "2025-01-12 15:19:47.773931            NaN             NaN              NaN   \n",
       "2025-01-12 15:19:47.773931       676.7705       6193127.0              NaN   \n",
       "2025-01-12 15:19:47.773931            NaN             NaN              NaN   \n",
       "\n",
       "                            TstTradeCount  event_id  shift_tradeside  \n",
       "timestamp                                                             \n",
       "2025-01-12 04:01:21.982695            NaN         0              NaN  \n",
       "2025-01-12 09:30:00.000005            NaN         1              NaN  \n",
       "2025-01-12 09:30:00.131449            NaN         2              NaN  \n",
       "2025-01-12 09:30:00.137941            NaN         3              NaN  \n",
       "2025-01-12 09:30:00.146260            NaN         4              NaN  \n",
       "...                                   ...       ...              ...  \n",
       "2025-01-12 15:19:42.707004            NaN     31560              NaN  \n",
       "2025-01-12 15:19:44.592597            NaN     31561              NaN  \n",
       "2025-01-12 15:19:47.773931            NaN     31562              NaN  \n",
       "2025-01-12 15:19:47.773931         9151.0     31563              1.0  \n",
       "2025-01-12 15:19:47.773931            NaN     31564              NaN  \n",
       "\n",
       "[31565 rows x 448 columns]"
      ]
     },
     "execution_count": 2,
     "metadata": {},
     "output_type": "execute_result"
    }
   ],
   "source": [
    "\n",
    "\n",
    "df = pd.read_parquet(\"pbook.parquet\")\n",
    "df['event_id'] = np.arange(len(df), dtype=int)\n",
    "df['shift_tradeside'] = df['TradeSide'].shift(1)\n",
    "df\n"
   ]
  },
  {
   "cell_type": "code",
   "execution_count": 3,
   "id": "8b1c4632",
   "metadata": {},
   "outputs": [
    {
     "data": {
      "text/plain": [
       "np.int64(0)"
      ]
     },
     "execution_count": 3,
     "metadata": {},
     "output_type": "execute_result"
    }
   ],
   "source": [
    "df[df.EntryType == 4]['shift_tradeside'].isna().sum()  # should be 0, since trades are always the same side as the previous row"
   ]
  },
  {
   "cell_type": "code",
   "execution_count": null,
   "id": "3ca747b7",
   "metadata": {},
   "outputs": [],
   "source": []
  },
  {
   "cell_type": "code",
   "execution_count": null,
   "id": "e2426194",
   "metadata": {},
   "outputs": [],
   "source": []
  },
  {
   "cell_type": "code",
   "execution_count": null,
   "id": "65c80ea9",
   "metadata": {},
   "outputs": [],
   "source": []
  },
  {
   "cell_type": "code",
   "execution_count": null,
   "id": "72f9643e",
   "metadata": {},
   "outputs": [],
   "source": []
  },
  {
   "cell_type": "code",
   "execution_count": 4,
   "id": "346e6286",
   "metadata": {},
   "outputs": [
    {
     "data": {
      "text/html": [
       "<div>\n",
       "<style scoped>\n",
       "    .dataframe tbody tr th:only-of-type {\n",
       "        vertical-align: middle;\n",
       "    }\n",
       "\n",
       "    .dataframe tbody tr th {\n",
       "        vertical-align: top;\n",
       "    }\n",
       "\n",
       "    .dataframe thead th {\n",
       "        text-align: right;\n",
       "    }\n",
       "</style>\n",
       "<table border=\"1\" class=\"dataframe\">\n",
       "  <thead>\n",
       "    <tr style=\"text-align: right;\">\n",
       "      <th></th>\n",
       "      <th>arrival_timestamp</th>\n",
       "      <th>Source</th>\n",
       "      <th>StockId</th>\n",
       "      <th>SeqNo</th>\n",
       "      <th>EntryType</th>\n",
       "      <th>OrderbookStateCode</th>\n",
       "      <th>OrderbookFlush</th>\n",
       "      <th>BidPrice0</th>\n",
       "      <th>BidSize0</th>\n",
       "      <th>BidOrders0</th>\n",
       "      <th>...</th>\n",
       "      <th>HighTradePrice</th>\n",
       "      <th>LowTradePrice</th>\n",
       "      <th>AverageTradePrice</th>\n",
       "      <th>LastTradedVolume</th>\n",
       "      <th>AverageVolume</th>\n",
       "      <th>OnMarketVolume</th>\n",
       "      <th>OffMarketVolume</th>\n",
       "      <th>TstTradeCount</th>\n",
       "      <th>event_id</th>\n",
       "      <th>shift_tradeside</th>\n",
       "    </tr>\n",
       "    <tr>\n",
       "      <th>timestamp</th>\n",
       "      <th></th>\n",
       "      <th></th>\n",
       "      <th></th>\n",
       "      <th></th>\n",
       "      <th></th>\n",
       "      <th></th>\n",
       "      <th></th>\n",
       "      <th></th>\n",
       "      <th></th>\n",
       "      <th></th>\n",
       "      <th></th>\n",
       "      <th></th>\n",
       "      <th></th>\n",
       "      <th></th>\n",
       "      <th></th>\n",
       "      <th></th>\n",
       "      <th></th>\n",
       "      <th></th>\n",
       "      <th></th>\n",
       "      <th></th>\n",
       "      <th></th>\n",
       "    </tr>\n",
       "  </thead>\n",
       "  <tbody>\n",
       "    <tr>\n",
       "      <th>2025-01-12 04:01:21.982695</th>\n",
       "      <td>2025-01-12 08:31:03.816370010</td>\n",
       "      <td>tdwl</td>\n",
       "      <td>2222</td>\n",
       "      <td>13847</td>\n",
       "      <td>1</td>\n",
       "      <td>NaN</td>\n",
       "      <td>1</td>\n",
       "      <td>NaN</td>\n",
       "      <td>NaN</td>\n",
       "      <td>NaN</td>\n",
       "      <td>...</td>\n",
       "      <td>NaN</td>\n",
       "      <td>NaN</td>\n",
       "      <td>NaN</td>\n",
       "      <td>NaN</td>\n",
       "      <td>NaN</td>\n",
       "      <td>NaN</td>\n",
       "      <td>NaN</td>\n",
       "      <td>NaN</td>\n",
       "      <td>0</td>\n",
       "      <td>NaN</td>\n",
       "    </tr>\n",
       "    <tr>\n",
       "      <th>2025-01-12 09:30:00.000005</th>\n",
       "      <td>2025-01-12 09:30:00.102878332</td>\n",
       "      <td>tdwl</td>\n",
       "      <td>2222</td>\n",
       "      <td>18259</td>\n",
       "      <td>1</td>\n",
       "      <td>4.0</td>\n",
       "      <td>0</td>\n",
       "      <td>27.95</td>\n",
       "      <td>462.0</td>\n",
       "      <td>8.0</td>\n",
       "      <td>...</td>\n",
       "      <td>NaN</td>\n",
       "      <td>NaN</td>\n",
       "      <td>NaN</td>\n",
       "      <td>NaN</td>\n",
       "      <td>NaN</td>\n",
       "      <td>NaN</td>\n",
       "      <td>NaN</td>\n",
       "      <td>NaN</td>\n",
       "      <td>1</td>\n",
       "      <td>NaN</td>\n",
       "    </tr>\n",
       "    <tr>\n",
       "      <th>2025-01-12 09:30:00.131449</th>\n",
       "      <td>2025-01-12 09:30:00.166012763</td>\n",
       "      <td>tdwl</td>\n",
       "      <td>2222</td>\n",
       "      <td>18629</td>\n",
       "      <td>1</td>\n",
       "      <td>4.0</td>\n",
       "      <td>0</td>\n",
       "      <td>27.95</td>\n",
       "      <td>482.0</td>\n",
       "      <td>9.0</td>\n",
       "      <td>...</td>\n",
       "      <td>NaN</td>\n",
       "      <td>NaN</td>\n",
       "      <td>NaN</td>\n",
       "      <td>NaN</td>\n",
       "      <td>NaN</td>\n",
       "      <td>NaN</td>\n",
       "      <td>NaN</td>\n",
       "      <td>NaN</td>\n",
       "      <td>2</td>\n",
       "      <td>NaN</td>\n",
       "    </tr>\n",
       "    <tr>\n",
       "      <th>2025-01-12 09:30:00.137941</th>\n",
       "      <td>2025-01-12 09:30:00.166704893</td>\n",
       "      <td>tdwl</td>\n",
       "      <td>2222</td>\n",
       "      <td>18638</td>\n",
       "      <td>1</td>\n",
       "      <td>4.0</td>\n",
       "      <td>0</td>\n",
       "      <td>27.95</td>\n",
       "      <td>485.0</td>\n",
       "      <td>10.0</td>\n",
       "      <td>...</td>\n",
       "      <td>NaN</td>\n",
       "      <td>NaN</td>\n",
       "      <td>NaN</td>\n",
       "      <td>NaN</td>\n",
       "      <td>NaN</td>\n",
       "      <td>NaN</td>\n",
       "      <td>NaN</td>\n",
       "      <td>NaN</td>\n",
       "      <td>3</td>\n",
       "      <td>NaN</td>\n",
       "    </tr>\n",
       "    <tr>\n",
       "      <th>2025-01-12 09:30:00.146260</th>\n",
       "      <td>2025-01-12 09:30:00.169140577</td>\n",
       "      <td>tdwl</td>\n",
       "      <td>2222</td>\n",
       "      <td>18665</td>\n",
       "      <td>1</td>\n",
       "      <td>4.0</td>\n",
       "      <td>0</td>\n",
       "      <td>28.00</td>\n",
       "      <td>78.0</td>\n",
       "      <td>1.0</td>\n",
       "      <td>...</td>\n",
       "      <td>NaN</td>\n",
       "      <td>NaN</td>\n",
       "      <td>NaN</td>\n",
       "      <td>NaN</td>\n",
       "      <td>NaN</td>\n",
       "      <td>NaN</td>\n",
       "      <td>NaN</td>\n",
       "      <td>NaN</td>\n",
       "      <td>4</td>\n",
       "      <td>NaN</td>\n",
       "    </tr>\n",
       "    <tr>\n",
       "      <th>...</th>\n",
       "      <td>...</td>\n",
       "      <td>...</td>\n",
       "      <td>...</td>\n",
       "      <td>...</td>\n",
       "      <td>...</td>\n",
       "      <td>...</td>\n",
       "      <td>...</td>\n",
       "      <td>...</td>\n",
       "      <td>...</td>\n",
       "      <td>...</td>\n",
       "      <td>...</td>\n",
       "      <td>...</td>\n",
       "      <td>...</td>\n",
       "      <td>...</td>\n",
       "      <td>...</td>\n",
       "      <td>...</td>\n",
       "      <td>...</td>\n",
       "      <td>...</td>\n",
       "      <td>...</td>\n",
       "      <td>...</td>\n",
       "      <td>...</td>\n",
       "    </tr>\n",
       "    <tr>\n",
       "      <th>2025-01-12 15:19:39.485383</th>\n",
       "      <td>2025-01-12 15:19:39.483141660</td>\n",
       "      <td>tdwl</td>\n",
       "      <td>2222</td>\n",
       "      <td>2528532</td>\n",
       "      <td>1</td>\n",
       "      <td>33.0</td>\n",
       "      <td>0</td>\n",
       "      <td>28.00</td>\n",
       "      <td>1394940.0</td>\n",
       "      <td>269.0</td>\n",
       "      <td>...</td>\n",
       "      <td>NaN</td>\n",
       "      <td>NaN</td>\n",
       "      <td>NaN</td>\n",
       "      <td>NaN</td>\n",
       "      <td>NaN</td>\n",
       "      <td>NaN</td>\n",
       "      <td>NaN</td>\n",
       "      <td>NaN</td>\n",
       "      <td>31558</td>\n",
       "      <td>NaN</td>\n",
       "    </tr>\n",
       "    <tr>\n",
       "      <th>2025-01-12 15:19:41.447855</th>\n",
       "      <td>2025-01-12 15:19:41.445729732</td>\n",
       "      <td>tdwl</td>\n",
       "      <td>2222</td>\n",
       "      <td>2528615</td>\n",
       "      <td>1</td>\n",
       "      <td>33.0</td>\n",
       "      <td>0</td>\n",
       "      <td>28.00</td>\n",
       "      <td>1394960.0</td>\n",
       "      <td>270.0</td>\n",
       "      <td>...</td>\n",
       "      <td>NaN</td>\n",
       "      <td>NaN</td>\n",
       "      <td>NaN</td>\n",
       "      <td>NaN</td>\n",
       "      <td>NaN</td>\n",
       "      <td>NaN</td>\n",
       "      <td>NaN</td>\n",
       "      <td>NaN</td>\n",
       "      <td>31559</td>\n",
       "      <td>NaN</td>\n",
       "    </tr>\n",
       "    <tr>\n",
       "      <th>2025-01-12 15:19:42.707004</th>\n",
       "      <td>2025-01-12 15:19:42.704854249</td>\n",
       "      <td>tdwl</td>\n",
       "      <td>2222</td>\n",
       "      <td>2528680</td>\n",
       "      <td>1</td>\n",
       "      <td>33.0</td>\n",
       "      <td>0</td>\n",
       "      <td>28.00</td>\n",
       "      <td>1394964.0</td>\n",
       "      <td>271.0</td>\n",
       "      <td>...</td>\n",
       "      <td>NaN</td>\n",
       "      <td>NaN</td>\n",
       "      <td>NaN</td>\n",
       "      <td>NaN</td>\n",
       "      <td>NaN</td>\n",
       "      <td>NaN</td>\n",
       "      <td>NaN</td>\n",
       "      <td>NaN</td>\n",
       "      <td>31560</td>\n",
       "      <td>NaN</td>\n",
       "    </tr>\n",
       "    <tr>\n",
       "      <th>2025-01-12 15:19:44.592597</th>\n",
       "      <td>2025-01-12 15:19:44.590407133</td>\n",
       "      <td>tdwl</td>\n",
       "      <td>2222</td>\n",
       "      <td>2528721</td>\n",
       "      <td>1</td>\n",
       "      <td>33.0</td>\n",
       "      <td>0</td>\n",
       "      <td>28.00</td>\n",
       "      <td>1395164.0</td>\n",
       "      <td>272.0</td>\n",
       "      <td>...</td>\n",
       "      <td>NaN</td>\n",
       "      <td>NaN</td>\n",
       "      <td>NaN</td>\n",
       "      <td>NaN</td>\n",
       "      <td>NaN</td>\n",
       "      <td>NaN</td>\n",
       "      <td>NaN</td>\n",
       "      <td>NaN</td>\n",
       "      <td>31561</td>\n",
       "      <td>NaN</td>\n",
       "    </tr>\n",
       "    <tr>\n",
       "      <th>2025-01-12 15:19:47.773931</th>\n",
       "      <td>2025-01-12 15:19:47.772315740</td>\n",
       "      <td>tdwl</td>\n",
       "      <td>2222</td>\n",
       "      <td>2528799</td>\n",
       "      <td>1</td>\n",
       "      <td>33.0</td>\n",
       "      <td>0</td>\n",
       "      <td>28.00</td>\n",
       "      <td>1373152.0</td>\n",
       "      <td>272.0</td>\n",
       "      <td>...</td>\n",
       "      <td>NaN</td>\n",
       "      <td>NaN</td>\n",
       "      <td>NaN</td>\n",
       "      <td>NaN</td>\n",
       "      <td>NaN</td>\n",
       "      <td>NaN</td>\n",
       "      <td>NaN</td>\n",
       "      <td>NaN</td>\n",
       "      <td>31564</td>\n",
       "      <td>NaN</td>\n",
       "    </tr>\n",
       "  </tbody>\n",
       "</table>\n",
       "<p>17170 rows × 448 columns</p>\n",
       "</div>"
      ],
      "text/plain": [
       "                                        arrival_timestamp Source  StockId  \\\n",
       "timestamp                                                                   \n",
       "2025-01-12 04:01:21.982695  2025-01-12 08:31:03.816370010   tdwl     2222   \n",
       "2025-01-12 09:30:00.000005  2025-01-12 09:30:00.102878332   tdwl     2222   \n",
       "2025-01-12 09:30:00.131449  2025-01-12 09:30:00.166012763   tdwl     2222   \n",
       "2025-01-12 09:30:00.137941  2025-01-12 09:30:00.166704893   tdwl     2222   \n",
       "2025-01-12 09:30:00.146260  2025-01-12 09:30:00.169140577   tdwl     2222   \n",
       "...                                                   ...    ...      ...   \n",
       "2025-01-12 15:19:39.485383  2025-01-12 15:19:39.483141660   tdwl     2222   \n",
       "2025-01-12 15:19:41.447855  2025-01-12 15:19:41.445729732   tdwl     2222   \n",
       "2025-01-12 15:19:42.707004  2025-01-12 15:19:42.704854249   tdwl     2222   \n",
       "2025-01-12 15:19:44.592597  2025-01-12 15:19:44.590407133   tdwl     2222   \n",
       "2025-01-12 15:19:47.773931  2025-01-12 15:19:47.772315740   tdwl     2222   \n",
       "\n",
       "                              SeqNo  EntryType  OrderbookStateCode  \\\n",
       "timestamp                                                            \n",
       "2025-01-12 04:01:21.982695    13847          1                 NaN   \n",
       "2025-01-12 09:30:00.000005    18259          1                 4.0   \n",
       "2025-01-12 09:30:00.131449    18629          1                 4.0   \n",
       "2025-01-12 09:30:00.137941    18638          1                 4.0   \n",
       "2025-01-12 09:30:00.146260    18665          1                 4.0   \n",
       "...                             ...        ...                 ...   \n",
       "2025-01-12 15:19:39.485383  2528532          1                33.0   \n",
       "2025-01-12 15:19:41.447855  2528615          1                33.0   \n",
       "2025-01-12 15:19:42.707004  2528680          1                33.0   \n",
       "2025-01-12 15:19:44.592597  2528721          1                33.0   \n",
       "2025-01-12 15:19:47.773931  2528799          1                33.0   \n",
       "\n",
       "                            OrderbookFlush  BidPrice0   BidSize0  BidOrders0  \\\n",
       "timestamp                                                                      \n",
       "2025-01-12 04:01:21.982695               1        NaN        NaN         NaN   \n",
       "2025-01-12 09:30:00.000005               0      27.95      462.0         8.0   \n",
       "2025-01-12 09:30:00.131449               0      27.95      482.0         9.0   \n",
       "2025-01-12 09:30:00.137941               0      27.95      485.0        10.0   \n",
       "2025-01-12 09:30:00.146260               0      28.00       78.0         1.0   \n",
       "...                                    ...        ...        ...         ...   \n",
       "2025-01-12 15:19:39.485383               0      28.00  1394940.0       269.0   \n",
       "2025-01-12 15:19:41.447855               0      28.00  1394960.0       270.0   \n",
       "2025-01-12 15:19:42.707004               0      28.00  1394964.0       271.0   \n",
       "2025-01-12 15:19:44.592597               0      28.00  1395164.0       272.0   \n",
       "2025-01-12 15:19:47.773931               0      28.00  1373152.0       272.0   \n",
       "\n",
       "                            ...  HighTradePrice  LowTradePrice  \\\n",
       "timestamp                   ...                                  \n",
       "2025-01-12 04:01:21.982695  ...             NaN            NaN   \n",
       "2025-01-12 09:30:00.000005  ...             NaN            NaN   \n",
       "2025-01-12 09:30:00.131449  ...             NaN            NaN   \n",
       "2025-01-12 09:30:00.137941  ...             NaN            NaN   \n",
       "2025-01-12 09:30:00.146260  ...             NaN            NaN   \n",
       "...                         ...             ...            ...   \n",
       "2025-01-12 15:19:39.485383  ...             NaN            NaN   \n",
       "2025-01-12 15:19:41.447855  ...             NaN            NaN   \n",
       "2025-01-12 15:19:42.707004  ...             NaN            NaN   \n",
       "2025-01-12 15:19:44.592597  ...             NaN            NaN   \n",
       "2025-01-12 15:19:47.773931  ...             NaN            NaN   \n",
       "\n",
       "                            AverageTradePrice  LastTradedVolume  \\\n",
       "timestamp                                                         \n",
       "2025-01-12 04:01:21.982695                NaN               NaN   \n",
       "2025-01-12 09:30:00.000005                NaN               NaN   \n",
       "2025-01-12 09:30:00.131449                NaN               NaN   \n",
       "2025-01-12 09:30:00.137941                NaN               NaN   \n",
       "2025-01-12 09:30:00.146260                NaN               NaN   \n",
       "...                                       ...               ...   \n",
       "2025-01-12 15:19:39.485383                NaN               NaN   \n",
       "2025-01-12 15:19:41.447855                NaN               NaN   \n",
       "2025-01-12 15:19:42.707004                NaN               NaN   \n",
       "2025-01-12 15:19:44.592597                NaN               NaN   \n",
       "2025-01-12 15:19:47.773931                NaN               NaN   \n",
       "\n",
       "                            AverageVolume  OnMarketVolume  OffMarketVolume  \\\n",
       "timestamp                                                                    \n",
       "2025-01-12 04:01:21.982695            NaN             NaN              NaN   \n",
       "2025-01-12 09:30:00.000005            NaN             NaN              NaN   \n",
       "2025-01-12 09:30:00.131449            NaN             NaN              NaN   \n",
       "2025-01-12 09:30:00.137941            NaN             NaN              NaN   \n",
       "2025-01-12 09:30:00.146260            NaN             NaN              NaN   \n",
       "...                                   ...             ...              ...   \n",
       "2025-01-12 15:19:39.485383            NaN             NaN              NaN   \n",
       "2025-01-12 15:19:41.447855            NaN             NaN              NaN   \n",
       "2025-01-12 15:19:42.707004            NaN             NaN              NaN   \n",
       "2025-01-12 15:19:44.592597            NaN             NaN              NaN   \n",
       "2025-01-12 15:19:47.773931            NaN             NaN              NaN   \n",
       "\n",
       "                            TstTradeCount  event_id  shift_tradeside  \n",
       "timestamp                                                             \n",
       "2025-01-12 04:01:21.982695            NaN         0              NaN  \n",
       "2025-01-12 09:30:00.000005            NaN         1              NaN  \n",
       "2025-01-12 09:30:00.131449            NaN         2              NaN  \n",
       "2025-01-12 09:30:00.137941            NaN         3              NaN  \n",
       "2025-01-12 09:30:00.146260            NaN         4              NaN  \n",
       "...                                   ...       ...              ...  \n",
       "2025-01-12 15:19:39.485383            NaN     31558              NaN  \n",
       "2025-01-12 15:19:41.447855            NaN     31559              NaN  \n",
       "2025-01-12 15:19:42.707004            NaN     31560              NaN  \n",
       "2025-01-12 15:19:44.592597            NaN     31561              NaN  \n",
       "2025-01-12 15:19:47.773931            NaN     31564              NaN  \n",
       "\n",
       "[17170 rows x 448 columns]"
      ]
     },
     "execution_count": 4,
     "metadata": {},
     "output_type": "execute_result"
    }
   ],
   "source": [
    "df[df.EntryType == 1]"
   ]
  },
  {
   "cell_type": "code",
   "execution_count": null,
   "id": "905b9774",
   "metadata": {},
   "outputs": [],
   "source": []
  },
  {
   "cell_type": "code",
   "execution_count": 9,
   "id": "b2b77063",
   "metadata": {},
   "outputs": [],
   "source": [
    "import ipywidgets as widgets # For the buttons.\n",
    "from IPython.display import display\n",
    "import viz_utils\n",
    "\n",
    "\n",
    "def order_book(df: pd.DataFrame, startingEID=None, tradesN: int = 20):\n",
    "    N = 1 # Number of snapshots to show at a time.\n",
    "    STEP = N # Number of snapshot moved at a time.\n",
    "    MAX_COLS = 3 # For orginization.\n",
    "\n",
    "    # 1. Building the list of snapshots (event_ids).\n",
    "    # This takes the event_id values for all rows where EntryType == 1, makes sure they’re ints, then turn them into a list.\n",
    "    snapIDs = df.loc[df['EntryType'].eq(1), 'event_id'].astype(int).tolist()\n",
    "    if not snapIDs:\n",
    "        raise ValueError(\"No rows with EntryType == 1 found.\")\n",
    "\n",
    "    if startingEID is None:\n",
    "        index = 1\n",
    "    else:\n",
    "        startingEID = int(startingEID) # Making sure it’s an int.\n",
    "        try:\n",
    "            index = snapIDs.index(startingEID) # This finds the position of the starting event_id inside snapIDs and stores it in index (exact match).\n",
    "        except ValueError:\n",
    "            # If there is no exact match, we pick the first snapshot whose id is >= startingEID.\n",
    "            index = next((i for i, num in enumerate(snapIDs) if num >= startingEID), len(snapIDs) - 1)\n",
    "\n",
    "    # 2. Creating UI state and widgets.\n",
    "    output = widgets.Output()\n",
    "    status = widgets.Label()\n",
    "\n",
    "    previousButton = widgets.Button(description=\"<- Prev\")\n",
    "    nextButton = widgets.Button(description=\"Next ->\")\n",
    "\n",
    "    # This clears the output box, draws the figure for the current page (starting at snapIDs[index]) and updates the status and button states.\n",
    "    def render():\n",
    "        with output:\n",
    "            output.clear_output(wait=True) # This clears the previous page before rendering the new one.\n",
    "            startEventID = snapIDs[index]\n",
    "            # figure = viz_utils_old.plot_order_book_table(df, event_id=startEventID, n=N, max_cols_per_row=MAX_COLS) # Without highlighting.\n",
    "            figure = viz_utils.plot_order_book_table_highlighted_flags(df, event_id=startEventID, n=N, max_cols_per_row=MAX_COLS, changed_alpha=0.50) # With highligting.\n",
    "            display(figure)\n",
    "\n",
    "            mask = (df['event_id'].to_numpy() == startEventID)\n",
    "            pos_arr = mask.nonzero()[0]\n",
    "            if pos_arr.size:\n",
    "                up_to_idx = int(pos_arr[0])\n",
    "                figureTrades = viz_utils.plot_recent_trades_table(df, n=tradesN, up_to_index=up_to_idx, newest_first=True,)\n",
    "                display(figureTrades)\n",
    "            else:\n",
    "                print(\"(No trades table: couldn't locate row for current event_id.)\")\n",
    "\n",
    "\n",
    "\n",
    "        # This update the status and button states.\n",
    "        shownLO = index + 1\n",
    "        shownHI = min(index + N, len(snapIDs))\n",
    "        if N == 1:\n",
    "            status.value = f\"Showing snapshot {shownLO-1} of {len(snapIDs)} (event_id={snapIDs[index]})\"\n",
    "        else:\n",
    "            status.value = f\"Showing snapshots {shownLO-1}-{shownHI-1} of {len(snapIDs)} (start event_id={snapIDs[index]})\"\n",
    "\n",
    "        previousButton.disabled = (index == 0)\n",
    "        nextButton.disabled = (index >= len(snapIDs) - 1)\n",
    "\n",
    "    # 3. The button calls.\n",
    "    def previous(_):\n",
    "        nonlocal index\n",
    "        index = max(0, index - STEP) # Moving left by STEP, but not less than 0.\n",
    "        render()\n",
    "\n",
    "    def next(_):\n",
    "        nonlocal index\n",
    "        index = min(len(snapIDs) - 1, index + STEP) # Moving right by STEP, but not more than the last index.\n",
    "        render()\n",
    "\n",
    "    previousButton.on_click(previous)\n",
    "    nextButton.on_click(next)\n",
    "\n",
    "    # This makes a horizontal row containing the previous button, next button, and the status label.\n",
    "    controls = widgets.HBox([previousButton, nextButton, status])\n",
    "\n",
    "    UI = widgets.VBox([controls, output])\n",
    "\n",
    "    render()\n",
    "    return UI\n",
    "\n"
   ]
  },
  {
   "cell_type": "code",
   "execution_count": 10,
   "id": "6e4dbd0b",
   "metadata": {},
   "outputs": [
    {
     "data": {
      "application/vnd.jupyter.widget-view+json": {
       "model_id": "671a7d19d022412fb006f8d3c6443bc3",
       "version_major": 2,
       "version_minor": 0
      },
      "text/plain": [
       "VBox(children=(HBox(children=(Button(description='<- Prev', style=ButtonStyle()), Button(description='Next ->'…"
      ]
     },
     "execution_count": 10,
     "metadata": {},
     "output_type": "execute_result"
    }
   ],
   "source": [
    "order_book(df, startingEID=2000, tradesN=10)"
   ]
  },
  {
   "cell_type": "code",
   "execution_count": 7,
   "id": "57723eab",
   "metadata": {},
   "outputs": [
    {
     "data": {
      "application/vnd.plotly.v1+json": {
       "config": {
        "plotlyServerURL": "https://plot.ly"
       },
       "data": [
        {
         "cells": {
          "align": [
           "right",
           "right",
           "right",
           "left",
           "right",
           "right"
          ],
          "fill": {
           "color": [
            [
             "rgba(46, 204, 113, 0.14)",
             "rgba(46, 204, 113, 0.14)",
             "rgba(46, 204, 113, 0.14)",
             "rgba(46, 204, 113, 0.14)",
             "rgba(46, 204, 113, 0.14)",
             "rgba(46, 204, 113, 0.14)",
             "rgba(46, 204, 113, 0.14)",
             "rgba(46, 204, 113, 0.14)",
             "rgba(46, 204, 113, 0.14)",
             "rgba(46, 204, 113, 0.14)",
             "rgba(46, 204, 113, 0.14)",
             "rgba(46, 204, 113, 0.14)",
             "rgba(46, 204, 113, 0.14)",
             "rgba(46, 204, 113, 0.14)",
             "rgba(46, 204, 113, 0.14)",
             "rgba(46, 204, 113, 0.14)",
             "rgba(46, 204, 113, 0.14)",
             "rgba(46, 204, 113, 0.14)",
             "rgba(46, 204, 113, 0.14)",
             "rgba(46, 204, 113, 0.14)"
            ],
            [
             "rgba(46, 204, 113, 0.14)",
             "rgba(46, 204, 113, 0.14)",
             "rgba(46, 204, 113, 0.14)",
             "rgba(46, 204, 113, 0.14)",
             "rgba(46, 204, 113, 0.14)",
             "rgba(46, 204, 113, 0.14)",
             "rgba(46, 204, 113, 0.14)",
             "rgba(46, 204, 113, 0.14)",
             "rgba(46, 204, 113, 0.14)",
             "rgba(46, 204, 113, 0.14)",
             "rgba(46, 204, 113, 0.14)",
             "rgba(46, 204, 113, 0.14)",
             "rgba(46, 204, 113, 0.14)",
             "rgba(46, 204, 113, 0.14)",
             "rgba(46, 204, 113, 0.14)",
             "rgba(46, 204, 113, 0.14)",
             "rgba(46, 204, 113, 0.14)",
             "rgba(46, 204, 113, 0.14)",
             "rgba(46, 204, 113, 0.14)",
             "rgba(46, 204, 113, 0.14)"
            ],
            [
             "rgba(46, 204, 113, 0.14)",
             "rgba(46, 204, 113, 0.14)",
             "rgba(46, 204, 113, 0.14)",
             "rgba(46, 204, 113, 0.14)",
             "rgba(46, 204, 113, 0.14)",
             "rgba(46, 204, 113, 0.14)",
             "rgba(46, 204, 113, 0.14)",
             "rgba(46, 204, 113, 0.14)",
             "rgba(46, 204, 113, 0.14)",
             "rgba(46, 204, 113, 0.14)",
             "rgba(46, 204, 113, 0.14)",
             "rgba(46, 204, 113, 0.14)",
             "rgba(46, 204, 113, 0.14)",
             "rgba(46, 204, 113, 0.14)",
             "rgba(46, 204, 113, 0.14)",
             "rgba(46, 204, 113, 0.14)",
             "rgba(46, 204, 113, 0.14)",
             "rgba(46, 204, 113, 0.14)",
             "rgba(46, 204, 113, 0.14)",
             "rgba(46, 204, 113, 0.14)"
            ],
            [
             "rgba(231, 76, 60, 0.14)",
             "rgba(231, 76, 60, 0.14)",
             "rgba(231, 76, 60, 0.14)",
             "rgba(231, 76, 60, 0.14)",
             "rgba(231, 76, 60, 0.14)",
             "rgba(231, 76, 60, 0.14)",
             "rgba(231, 76, 60, 0.14)",
             "rgba(231, 76, 60, 0.14)",
             "rgba(231, 76, 60, 0.14)",
             "rgba(231, 76, 60, 0.14)",
             "rgba(231, 76, 60, 0.14)",
             "rgba(231, 76, 60, 0.14)",
             "rgba(231, 76, 60, 0.14)",
             "rgba(231, 76, 60, 0.14)",
             "rgba(231, 76, 60, 0.14)",
             "rgba(231, 76, 60, 0.14)",
             "rgba(231, 76, 60, 0.14)",
             "rgba(231, 76, 60, 0.14)",
             "rgba(231, 76, 60, 0.14)",
             "rgba(231, 76, 60, 0.14)"
            ],
            [
             "rgba(231, 76, 60, 0.14)",
             "rgba(231, 76, 60, 0.14)",
             "rgba(231, 76, 60, 0.14)",
             "rgba(231, 76, 60, 0.14)",
             "rgba(231, 76, 60, 0.14)",
             "rgba(231, 76, 60, 0.14)",
             "rgba(231, 76, 60, 0.14)",
             "rgba(231, 76, 60, 0.14)",
             "rgba(231, 76, 60, 0.14)",
             "rgba(231, 76, 60, 0.14)",
             "rgba(231, 76, 60, 0.14)",
             "rgba(231, 76, 60, 0.14)",
             "rgba(231, 76, 60, 0.14)",
             "rgba(231, 76, 60, 0.14)",
             "rgba(231, 76, 60, 0.14)",
             "rgba(231, 76, 60, 0.14)",
             "rgba(231, 76, 60, 0.14)",
             "rgba(231, 76, 60, 0.14)",
             "rgba(231, 76, 60, 0.14)",
             "rgba(231, 76, 60, 0.14)"
            ],
            [
             "rgba(231, 76, 60, 0.14)",
             "rgba(231, 76, 60, 0.14)",
             "rgba(231, 76, 60, 0.14)",
             "rgba(231, 76, 60, 0.14)",
             "rgba(231, 76, 60, 0.14)",
             "rgba(231, 76, 60, 0.14)",
             "rgba(231, 76, 60, 0.14)",
             "rgba(231, 76, 60, 0.14)",
             "rgba(231, 76, 60, 0.14)",
             "rgba(231, 76, 60, 0.14)",
             "rgba(231, 76, 60, 0.14)",
             "rgba(231, 76, 60, 0.14)",
             "rgba(231, 76, 60, 0.14)",
             "rgba(231, 76, 60, 0.14)",
             "rgba(231, 76, 60, 0.14)",
             "rgba(231, 76, 60, 0.14)",
             "rgba(231, 76, 60, 0.14)",
             "rgba(231, 76, 60, 0.14)",
             "rgba(231, 76, 60, 0.14)",
             "rgba(231, 76, 60, 0.14)"
            ]
           ]
          },
          "font": {
           "color": [
            [
             "#2ecc71",
             "#2ecc71",
             "#2ecc71",
             "#2ecc71",
             "#2ecc71",
             "#2ecc71",
             "#2ecc71",
             "#2ecc71",
             "#2ecc71",
             "#2ecc71",
             "#2ecc71",
             "#2ecc71",
             "#2ecc71",
             "#2ecc71",
             "#2ecc71",
             "#2ecc71",
             "#2ecc71",
             "#2ecc71",
             "#2ecc71",
             "#2ecc71"
            ],
            [
             "#2ecc71",
             "#2ecc71",
             "#2ecc71",
             "#2ecc71",
             "#2ecc71",
             "#2ecc71",
             "#2ecc71",
             "#2ecc71",
             "#2ecc71",
             "#2ecc71",
             "#2ecc71",
             "#2ecc71",
             "#2ecc71",
             "#2ecc71",
             "#2ecc71",
             "#2ecc71",
             "#2ecc71",
             "#2ecc71",
             "#2ecc71",
             "#2ecc71"
            ],
            [
             "#2ecc71",
             "#2ecc71",
             "#2ecc71",
             "#2ecc71",
             "#2ecc71",
             "#2ecc71",
             "#2ecc71",
             "#2ecc71",
             "#2ecc71",
             "#2ecc71",
             "#2ecc71",
             "#2ecc71",
             "#2ecc71",
             "#2ecc71",
             "#2ecc71",
             "#2ecc71",
             "#2ecc71",
             "#2ecc71",
             "#2ecc71",
             "#2ecc71"
            ],
            [
             "#e74c3c",
             "#e74c3c",
             "#e74c3c",
             "#e74c3c",
             "#e74c3c",
             "#e74c3c",
             "#e74c3c",
             "#e74c3c",
             "#e74c3c",
             "#e74c3c",
             "#e74c3c",
             "#e74c3c",
             "#e74c3c",
             "#e74c3c",
             "#e74c3c",
             "#e74c3c",
             "#e74c3c",
             "#e74c3c",
             "#e74c3c",
             "#e74c3c"
            ],
            [
             "#e74c3c",
             "#e74c3c",
             "#e74c3c",
             "#e74c3c",
             "#e74c3c",
             "#e74c3c",
             "#e74c3c",
             "#e74c3c",
             "#e74c3c",
             "#e74c3c",
             "#e74c3c",
             "#e74c3c",
             "#e74c3c",
             "#e74c3c",
             "#e74c3c",
             "#e74c3c",
             "#e74c3c",
             "#e74c3c",
             "#e74c3c",
             "#e74c3c"
            ],
            [
             "#e74c3c",
             "#e74c3c",
             "#e74c3c",
             "#e74c3c",
             "#e74c3c",
             "#e74c3c",
             "#e74c3c",
             "#e74c3c",
             "#e74c3c",
             "#e74c3c",
             "#e74c3c",
             "#e74c3c",
             "#e74c3c",
             "#e74c3c",
             "#e74c3c",
             "#e74c3c",
             "#e74c3c",
             "#e74c3c",
             "#e74c3c",
             "#e74c3c"
            ]
           ],
           "size": 12
          },
          "height": 26,
          "values": [
           [
            "1",
            "3",
            "1",
            "1",
            "2",
            "3",
            "324",
            "399",
            "210",
            "167",
            "309",
            "329",
            "366",
            "135",
            "215",
            "143",
            "616",
            "89",
            "96",
            "114"
           ],
           [
            "1",
            "3",
            "1",
            "248",
            "257",
            "25",
            "29,818",
            "98,281",
            "47,636",
            "101,517",
            "185,325",
            "138,354",
            "154,632",
            "15,595",
            "210,508",
            "33,060",
            "436,683",
            "20,819",
            "66,584",
            "10,367"
           ],
           [
            "30.1",
            "30",
            "29",
            "28.15",
            "28.1",
            "28.05",
            "28",
            "27.95",
            "27.9",
            "27.85",
            "27.8",
            "27.75",
            "27.7",
            "27.65",
            "27.6",
            "27.55",
            "27.5",
            "27.45",
            "27.4",
            "0"
           ],
           [
            "0",
            "25.2",
            "27",
            "27.4",
            "27.45",
            "27.9",
            "27.95",
            "28",
            "28.05",
            "28.1",
            "28.15",
            "28.2",
            "28.25",
            "28.3",
            "28.35",
            "28.4",
            "28.45",
            "28.5",
            "28.55",
            "28.6"
           ],
           [
            "14,455",
            "39",
            "19",
            "133",
            "11",
            "227",
            "37,376",
            "51,232",
            "189,851",
            "1,089,397",
            "80,170",
            "138,309",
            "143,650",
            "40,298",
            "16,254",
            "49,163",
            "29,099",
            "233,835",
            "64,833",
            "32,893"
           ],
           [
            "90",
            "1",
            "1",
            "1",
            "1",
            "5",
            "311",
            "90",
            "39",
            "137",
            "77",
            "82",
            "52",
            "86",
            "31",
            "47",
            "34",
            "189",
            "43",
            "58"
           ]
          ]
         },
         "columnwidth": [
          0.9,
          1.1,
          1.1,
          1.1,
          1.1,
          0.9
         ],
         "domain": {
          "x": [
           0,
           0.16
          ],
          "y": [
           0,
           1
          ]
         },
         "header": {
          "align": "center",
          "fill": {
           "color": [
            "#2ecc71",
            "#2ecc71",
            "#2ecc71",
            "#e74c3c",
            "#e74c3c",
            "#e74c3c"
           ]
          },
          "font": {
           "color": "white",
           "size": 12
          },
          "height": 30,
          "values": [
           "Bid Orders",
           "Bid Size",
           "Bid Price",
           "Ask Price",
           "Ask Size",
           "Ask Orders"
          ]
         },
         "type": "table"
        }
       ],
       "layout": {
        "annotations": [
         {
          "font": {
           "size": 16
          },
          "showarrow": false,
          "text": "id=2005",
          "x": 0.08,
          "xanchor": "center",
          "xref": "paper",
          "y": 1,
          "yanchor": "bottom",
          "yref": "paper"
         }
        ],
        "autosize": false,
        "height": 480,
        "margin": {
         "b": 10,
         "l": 10,
         "r": 10,
         "t": 90
        },
        "template": {
         "data": {
          "bar": [
           {
            "error_x": {
             "color": "#2a3f5f"
            },
            "error_y": {
             "color": "#2a3f5f"
            },
            "marker": {
             "line": {
              "color": "#E5ECF6",
              "width": 0.5
             },
             "pattern": {
              "fillmode": "overlay",
              "size": 10,
              "solidity": 0.2
             }
            },
            "type": "bar"
           }
          ],
          "barpolar": [
           {
            "marker": {
             "line": {
              "color": "#E5ECF6",
              "width": 0.5
             },
             "pattern": {
              "fillmode": "overlay",
              "size": 10,
              "solidity": 0.2
             }
            },
            "type": "barpolar"
           }
          ],
          "carpet": [
           {
            "aaxis": {
             "endlinecolor": "#2a3f5f",
             "gridcolor": "white",
             "linecolor": "white",
             "minorgridcolor": "white",
             "startlinecolor": "#2a3f5f"
            },
            "baxis": {
             "endlinecolor": "#2a3f5f",
             "gridcolor": "white",
             "linecolor": "white",
             "minorgridcolor": "white",
             "startlinecolor": "#2a3f5f"
            },
            "type": "carpet"
           }
          ],
          "choropleth": [
           {
            "colorbar": {
             "outlinewidth": 0,
             "ticks": ""
            },
            "type": "choropleth"
           }
          ],
          "contour": [
           {
            "colorbar": {
             "outlinewidth": 0,
             "ticks": ""
            },
            "colorscale": [
             [
              0,
              "#0d0887"
             ],
             [
              0.1111111111111111,
              "#46039f"
             ],
             [
              0.2222222222222222,
              "#7201a8"
             ],
             [
              0.3333333333333333,
              "#9c179e"
             ],
             [
              0.4444444444444444,
              "#bd3786"
             ],
             [
              0.5555555555555556,
              "#d8576b"
             ],
             [
              0.6666666666666666,
              "#ed7953"
             ],
             [
              0.7777777777777778,
              "#fb9f3a"
             ],
             [
              0.8888888888888888,
              "#fdca26"
             ],
             [
              1,
              "#f0f921"
             ]
            ],
            "type": "contour"
           }
          ],
          "contourcarpet": [
           {
            "colorbar": {
             "outlinewidth": 0,
             "ticks": ""
            },
            "type": "contourcarpet"
           }
          ],
          "heatmap": [
           {
            "colorbar": {
             "outlinewidth": 0,
             "ticks": ""
            },
            "colorscale": [
             [
              0,
              "#0d0887"
             ],
             [
              0.1111111111111111,
              "#46039f"
             ],
             [
              0.2222222222222222,
              "#7201a8"
             ],
             [
              0.3333333333333333,
              "#9c179e"
             ],
             [
              0.4444444444444444,
              "#bd3786"
             ],
             [
              0.5555555555555556,
              "#d8576b"
             ],
             [
              0.6666666666666666,
              "#ed7953"
             ],
             [
              0.7777777777777778,
              "#fb9f3a"
             ],
             [
              0.8888888888888888,
              "#fdca26"
             ],
             [
              1,
              "#f0f921"
             ]
            ],
            "type": "heatmap"
           }
          ],
          "histogram": [
           {
            "marker": {
             "pattern": {
              "fillmode": "overlay",
              "size": 10,
              "solidity": 0.2
             }
            },
            "type": "histogram"
           }
          ],
          "histogram2d": [
           {
            "colorbar": {
             "outlinewidth": 0,
             "ticks": ""
            },
            "colorscale": [
             [
              0,
              "#0d0887"
             ],
             [
              0.1111111111111111,
              "#46039f"
             ],
             [
              0.2222222222222222,
              "#7201a8"
             ],
             [
              0.3333333333333333,
              "#9c179e"
             ],
             [
              0.4444444444444444,
              "#bd3786"
             ],
             [
              0.5555555555555556,
              "#d8576b"
             ],
             [
              0.6666666666666666,
              "#ed7953"
             ],
             [
              0.7777777777777778,
              "#fb9f3a"
             ],
             [
              0.8888888888888888,
              "#fdca26"
             ],
             [
              1,
              "#f0f921"
             ]
            ],
            "type": "histogram2d"
           }
          ],
          "histogram2dcontour": [
           {
            "colorbar": {
             "outlinewidth": 0,
             "ticks": ""
            },
            "colorscale": [
             [
              0,
              "#0d0887"
             ],
             [
              0.1111111111111111,
              "#46039f"
             ],
             [
              0.2222222222222222,
              "#7201a8"
             ],
             [
              0.3333333333333333,
              "#9c179e"
             ],
             [
              0.4444444444444444,
              "#bd3786"
             ],
             [
              0.5555555555555556,
              "#d8576b"
             ],
             [
              0.6666666666666666,
              "#ed7953"
             ],
             [
              0.7777777777777778,
              "#fb9f3a"
             ],
             [
              0.8888888888888888,
              "#fdca26"
             ],
             [
              1,
              "#f0f921"
             ]
            ],
            "type": "histogram2dcontour"
           }
          ],
          "mesh3d": [
           {
            "colorbar": {
             "outlinewidth": 0,
             "ticks": ""
            },
            "type": "mesh3d"
           }
          ],
          "parcoords": [
           {
            "line": {
             "colorbar": {
              "outlinewidth": 0,
              "ticks": ""
             }
            },
            "type": "parcoords"
           }
          ],
          "pie": [
           {
            "automargin": true,
            "type": "pie"
           }
          ],
          "scatter": [
           {
            "fillpattern": {
             "fillmode": "overlay",
             "size": 10,
             "solidity": 0.2
            },
            "type": "scatter"
           }
          ],
          "scatter3d": [
           {
            "line": {
             "colorbar": {
              "outlinewidth": 0,
              "ticks": ""
             }
            },
            "marker": {
             "colorbar": {
              "outlinewidth": 0,
              "ticks": ""
             }
            },
            "type": "scatter3d"
           }
          ],
          "scattercarpet": [
           {
            "marker": {
             "colorbar": {
              "outlinewidth": 0,
              "ticks": ""
             }
            },
            "type": "scattercarpet"
           }
          ],
          "scattergeo": [
           {
            "marker": {
             "colorbar": {
              "outlinewidth": 0,
              "ticks": ""
             }
            },
            "type": "scattergeo"
           }
          ],
          "scattergl": [
           {
            "marker": {
             "colorbar": {
              "outlinewidth": 0,
              "ticks": ""
             }
            },
            "type": "scattergl"
           }
          ],
          "scattermap": [
           {
            "marker": {
             "colorbar": {
              "outlinewidth": 0,
              "ticks": ""
             }
            },
            "type": "scattermap"
           }
          ],
          "scattermapbox": [
           {
            "marker": {
             "colorbar": {
              "outlinewidth": 0,
              "ticks": ""
             }
            },
            "type": "scattermapbox"
           }
          ],
          "scatterpolar": [
           {
            "marker": {
             "colorbar": {
              "outlinewidth": 0,
              "ticks": ""
             }
            },
            "type": "scatterpolar"
           }
          ],
          "scatterpolargl": [
           {
            "marker": {
             "colorbar": {
              "outlinewidth": 0,
              "ticks": ""
             }
            },
            "type": "scatterpolargl"
           }
          ],
          "scatterternary": [
           {
            "marker": {
             "colorbar": {
              "outlinewidth": 0,
              "ticks": ""
             }
            },
            "type": "scatterternary"
           }
          ],
          "surface": [
           {
            "colorbar": {
             "outlinewidth": 0,
             "ticks": ""
            },
            "colorscale": [
             [
              0,
              "#0d0887"
             ],
             [
              0.1111111111111111,
              "#46039f"
             ],
             [
              0.2222222222222222,
              "#7201a8"
             ],
             [
              0.3333333333333333,
              "#9c179e"
             ],
             [
              0.4444444444444444,
              "#bd3786"
             ],
             [
              0.5555555555555556,
              "#d8576b"
             ],
             [
              0.6666666666666666,
              "#ed7953"
             ],
             [
              0.7777777777777778,
              "#fb9f3a"
             ],
             [
              0.8888888888888888,
              "#fdca26"
             ],
             [
              1,
              "#f0f921"
             ]
            ],
            "type": "surface"
           }
          ],
          "table": [
           {
            "cells": {
             "fill": {
              "color": "#EBF0F8"
             },
             "line": {
              "color": "white"
             }
            },
            "header": {
             "fill": {
              "color": "#C8D4E3"
             },
             "line": {
              "color": "white"
             }
            },
            "type": "table"
           }
          ]
         },
         "layout": {
          "annotationdefaults": {
           "arrowcolor": "#2a3f5f",
           "arrowhead": 0,
           "arrowwidth": 1
          },
          "autotypenumbers": "strict",
          "coloraxis": {
           "colorbar": {
            "outlinewidth": 0,
            "ticks": ""
           }
          },
          "colorscale": {
           "diverging": [
            [
             0,
             "#8e0152"
            ],
            [
             0.1,
             "#c51b7d"
            ],
            [
             0.2,
             "#de77ae"
            ],
            [
             0.3,
             "#f1b6da"
            ],
            [
             0.4,
             "#fde0ef"
            ],
            [
             0.5,
             "#f7f7f7"
            ],
            [
             0.6,
             "#e6f5d0"
            ],
            [
             0.7,
             "#b8e186"
            ],
            [
             0.8,
             "#7fbc41"
            ],
            [
             0.9,
             "#4d9221"
            ],
            [
             1,
             "#276419"
            ]
           ],
           "sequential": [
            [
             0,
             "#0d0887"
            ],
            [
             0.1111111111111111,
             "#46039f"
            ],
            [
             0.2222222222222222,
             "#7201a8"
            ],
            [
             0.3333333333333333,
             "#9c179e"
            ],
            [
             0.4444444444444444,
             "#bd3786"
            ],
            [
             0.5555555555555556,
             "#d8576b"
            ],
            [
             0.6666666666666666,
             "#ed7953"
            ],
            [
             0.7777777777777778,
             "#fb9f3a"
            ],
            [
             0.8888888888888888,
             "#fdca26"
            ],
            [
             1,
             "#f0f921"
            ]
           ],
           "sequentialminus": [
            [
             0,
             "#0d0887"
            ],
            [
             0.1111111111111111,
             "#46039f"
            ],
            [
             0.2222222222222222,
             "#7201a8"
            ],
            [
             0.3333333333333333,
             "#9c179e"
            ],
            [
             0.4444444444444444,
             "#bd3786"
            ],
            [
             0.5555555555555556,
             "#d8576b"
            ],
            [
             0.6666666666666666,
             "#ed7953"
            ],
            [
             0.7777777777777778,
             "#fb9f3a"
            ],
            [
             0.8888888888888888,
             "#fdca26"
            ],
            [
             1,
             "#f0f921"
            ]
           ]
          },
          "colorway": [
           "#636efa",
           "#EF553B",
           "#00cc96",
           "#ab63fa",
           "#FFA15A",
           "#19d3f3",
           "#FF6692",
           "#B6E880",
           "#FF97FF",
           "#FECB52"
          ],
          "font": {
           "color": "#2a3f5f"
          },
          "geo": {
           "bgcolor": "white",
           "lakecolor": "white",
           "landcolor": "#E5ECF6",
           "showlakes": true,
           "showland": true,
           "subunitcolor": "white"
          },
          "hoverlabel": {
           "align": "left"
          },
          "hovermode": "closest",
          "mapbox": {
           "style": "light"
          },
          "paper_bgcolor": "white",
          "plot_bgcolor": "#E5ECF6",
          "polar": {
           "angularaxis": {
            "gridcolor": "white",
            "linecolor": "white",
            "ticks": ""
           },
           "bgcolor": "#E5ECF6",
           "radialaxis": {
            "gridcolor": "white",
            "linecolor": "white",
            "ticks": ""
           }
          },
          "scene": {
           "xaxis": {
            "backgroundcolor": "#E5ECF6",
            "gridcolor": "white",
            "gridwidth": 2,
            "linecolor": "white",
            "showbackground": true,
            "ticks": "",
            "zerolinecolor": "white"
           },
           "yaxis": {
            "backgroundcolor": "#E5ECF6",
            "gridcolor": "white",
            "gridwidth": 2,
            "linecolor": "white",
            "showbackground": true,
            "ticks": "",
            "zerolinecolor": "white"
           },
           "zaxis": {
            "backgroundcolor": "#E5ECF6",
            "gridcolor": "white",
            "gridwidth": 2,
            "linecolor": "white",
            "showbackground": true,
            "ticks": "",
            "zerolinecolor": "white"
           }
          },
          "shapedefaults": {
           "line": {
            "color": "#2a3f5f"
           }
          },
          "ternary": {
           "aaxis": {
            "gridcolor": "white",
            "linecolor": "white",
            "ticks": ""
           },
           "baxis": {
            "gridcolor": "white",
            "linecolor": "white",
            "ticks": ""
           },
           "bgcolor": "#E5ECF6",
           "caxis": {
            "gridcolor": "white",
            "linecolor": "white",
            "ticks": ""
           }
          },
          "title": {
           "x": 0.05
          },
          "xaxis": {
           "automargin": true,
           "gridcolor": "white",
           "linecolor": "white",
           "ticks": "",
           "title": {
            "standoff": 15
           },
           "zerolinecolor": "white",
           "zerolinewidth": 2
          },
          "yaxis": {
           "automargin": true,
           "gridcolor": "white",
           "linecolor": "white",
           "ticks": "",
           "title": {
            "standoff": 15
           },
           "zerolinecolor": "white",
           "zerolinewidth": 2
          }
         }
        },
        "title": {
         "text": "Order Book Quotes snapshots starting at event_id=2005"
        },
        "width": 2500
       }
      }
     },
     "metadata": {},
     "output_type": "display_data"
    }
   ],
   "source": [
    "plot_order_book_table(df, event_id=2005)"
   ]
  },
  {
   "cell_type": "code",
   "execution_count": 8,
   "id": "21e38dec",
   "metadata": {},
   "outputs": [
    {
     "data": {
      "text/plain": [
       "['arrival_timestamp',\n",
       " 'Source',\n",
       " 'StockId',\n",
       " 'SeqNo',\n",
       " 'EntryType',\n",
       " 'OrderbookStateCode',\n",
       " 'OrderbookFlush',\n",
       " 'BidPrice0',\n",
       " 'BidSize0',\n",
       " 'BidOrders0',\n",
       " 'BidLevelPrevPrice0',\n",
       " 'BidLevelPrevSize0',\n",
       " 'BidLevelPrevOrders0',\n",
       " 'BidSizeAdded0',\n",
       " 'BidSizeRemoved0',\n",
       " 'BidOrdersAdded0',\n",
       " 'BidOrdersRemoved0',\n",
       " 'AskPrice0',\n",
       " 'AskSize0',\n",
       " 'AskOrders0',\n",
       " 'AskLevelPrevPrice0',\n",
       " 'AskLevelPrevSize0',\n",
       " 'AskLevelPrevOrders0',\n",
       " 'AskSizeAdded0',\n",
       " 'AskSizeRemoved0',\n",
       " 'AskOrdersAdded0',\n",
       " 'AskOrdersRemoved0',\n",
       " 'EventType0',\n",
       " 'BidPrice1',\n",
       " 'BidSize1',\n",
       " 'BidOrders1',\n",
       " 'BidLevelPrevPrice1',\n",
       " 'BidLevelPrevSize1',\n",
       " 'BidLevelPrevOrders1',\n",
       " 'BidSizeAdded1',\n",
       " 'BidSizeRemoved1',\n",
       " 'BidOrdersAdded1',\n",
       " 'BidOrdersRemoved1',\n",
       " 'AskPrice1',\n",
       " 'AskSize1',\n",
       " 'AskOrders1',\n",
       " 'AskLevelPrevPrice1',\n",
       " 'AskLevelPrevSize1',\n",
       " 'AskLevelPrevOrders1',\n",
       " 'AskSizeAdded1',\n",
       " 'AskSizeRemoved1',\n",
       " 'AskOrdersAdded1',\n",
       " 'AskOrdersRemoved1',\n",
       " 'EventType1',\n",
       " 'BidPrice2',\n",
       " 'BidSize2',\n",
       " 'BidOrders2',\n",
       " 'BidLevelPrevPrice2',\n",
       " 'BidLevelPrevSize2',\n",
       " 'BidLevelPrevOrders2',\n",
       " 'BidSizeAdded2',\n",
       " 'BidSizeRemoved2',\n",
       " 'BidOrdersAdded2',\n",
       " 'BidOrdersRemoved2',\n",
       " 'AskPrice2',\n",
       " 'AskSize2',\n",
       " 'AskOrders2',\n",
       " 'AskLevelPrevPrice2',\n",
       " 'AskLevelPrevSize2',\n",
       " 'AskLevelPrevOrders2',\n",
       " 'AskSizeAdded2',\n",
       " 'AskSizeRemoved2',\n",
       " 'AskOrdersAdded2',\n",
       " 'AskOrdersRemoved2',\n",
       " 'EventType2',\n",
       " 'BidPrice3',\n",
       " 'BidSize3',\n",
       " 'BidOrders3',\n",
       " 'BidLevelPrevPrice3',\n",
       " 'BidLevelPrevSize3',\n",
       " 'BidLevelPrevOrders3',\n",
       " 'BidSizeAdded3',\n",
       " 'BidSizeRemoved3',\n",
       " 'BidOrdersAdded3',\n",
       " 'BidOrdersRemoved3',\n",
       " 'AskPrice3',\n",
       " 'AskSize3',\n",
       " 'AskOrders3',\n",
       " 'AskLevelPrevPrice3',\n",
       " 'AskLevelPrevSize3',\n",
       " 'AskLevelPrevOrders3',\n",
       " 'AskSizeAdded3',\n",
       " 'AskSizeRemoved3',\n",
       " 'AskOrdersAdded3',\n",
       " 'AskOrdersRemoved3',\n",
       " 'EventType3',\n",
       " 'BidPrice4',\n",
       " 'BidSize4',\n",
       " 'BidOrders4',\n",
       " 'BidLevelPrevPrice4',\n",
       " 'BidLevelPrevSize4',\n",
       " 'BidLevelPrevOrders4',\n",
       " 'BidSizeAdded4',\n",
       " 'BidSizeRemoved4',\n",
       " 'BidOrdersAdded4',\n",
       " 'BidOrdersRemoved4',\n",
       " 'AskPrice4',\n",
       " 'AskSize4',\n",
       " 'AskOrders4',\n",
       " 'AskLevelPrevPrice4',\n",
       " 'AskLevelPrevSize4',\n",
       " 'AskLevelPrevOrders4',\n",
       " 'AskSizeAdded4',\n",
       " 'AskSizeRemoved4',\n",
       " 'AskOrdersAdded4',\n",
       " 'AskOrdersRemoved4',\n",
       " 'EventType4',\n",
       " 'BidPrice5',\n",
       " 'BidSize5',\n",
       " 'BidOrders5',\n",
       " 'BidLevelPrevPrice5',\n",
       " 'BidLevelPrevSize5',\n",
       " 'BidLevelPrevOrders5',\n",
       " 'BidSizeAdded5',\n",
       " 'BidSizeRemoved5',\n",
       " 'BidOrdersAdded5',\n",
       " 'BidOrdersRemoved5',\n",
       " 'AskPrice5',\n",
       " 'AskSize5',\n",
       " 'AskOrders5',\n",
       " 'AskLevelPrevPrice5',\n",
       " 'AskLevelPrevSize5',\n",
       " 'AskLevelPrevOrders5',\n",
       " 'AskSizeAdded5',\n",
       " 'AskSizeRemoved5',\n",
       " 'AskOrdersAdded5',\n",
       " 'AskOrdersRemoved5',\n",
       " 'EventType5',\n",
       " 'BidPrice6',\n",
       " 'BidSize6',\n",
       " 'BidOrders6',\n",
       " 'BidLevelPrevPrice6',\n",
       " 'BidLevelPrevSize6',\n",
       " 'BidLevelPrevOrders6',\n",
       " 'BidSizeAdded6',\n",
       " 'BidSizeRemoved6',\n",
       " 'BidOrdersAdded6',\n",
       " 'BidOrdersRemoved6',\n",
       " 'AskPrice6',\n",
       " 'AskSize6',\n",
       " 'AskOrders6',\n",
       " 'AskLevelPrevPrice6',\n",
       " 'AskLevelPrevSize6',\n",
       " 'AskLevelPrevOrders6',\n",
       " 'AskSizeAdded6',\n",
       " 'AskSizeRemoved6',\n",
       " 'AskOrdersAdded6',\n",
       " 'AskOrdersRemoved6',\n",
       " 'EventType6',\n",
       " 'BidPrice7',\n",
       " 'BidSize7',\n",
       " 'BidOrders7',\n",
       " 'BidLevelPrevPrice7',\n",
       " 'BidLevelPrevSize7',\n",
       " 'BidLevelPrevOrders7',\n",
       " 'BidSizeAdded7',\n",
       " 'BidSizeRemoved7',\n",
       " 'BidOrdersAdded7',\n",
       " 'BidOrdersRemoved7',\n",
       " 'AskPrice7',\n",
       " 'AskSize7',\n",
       " 'AskOrders7',\n",
       " 'AskLevelPrevPrice7',\n",
       " 'AskLevelPrevSize7',\n",
       " 'AskLevelPrevOrders7',\n",
       " 'AskSizeAdded7',\n",
       " 'AskSizeRemoved7',\n",
       " 'AskOrdersAdded7',\n",
       " 'AskOrdersRemoved7',\n",
       " 'EventType7',\n",
       " 'BidPrice8',\n",
       " 'BidSize8',\n",
       " 'BidOrders8',\n",
       " 'BidLevelPrevPrice8',\n",
       " 'BidLevelPrevSize8',\n",
       " 'BidLevelPrevOrders8',\n",
       " 'BidSizeAdded8',\n",
       " 'BidSizeRemoved8',\n",
       " 'BidOrdersAdded8',\n",
       " 'BidOrdersRemoved8',\n",
       " 'AskPrice8',\n",
       " 'AskSize8',\n",
       " 'AskOrders8',\n",
       " 'AskLevelPrevPrice8',\n",
       " 'AskLevelPrevSize8',\n",
       " 'AskLevelPrevOrders8',\n",
       " 'AskSizeAdded8',\n",
       " 'AskSizeRemoved8',\n",
       " 'AskOrdersAdded8',\n",
       " 'AskOrdersRemoved8',\n",
       " 'EventType8',\n",
       " 'BidPrice9',\n",
       " 'BidSize9',\n",
       " 'BidOrders9',\n",
       " 'BidLevelPrevPrice9',\n",
       " 'BidLevelPrevSize9',\n",
       " 'BidLevelPrevOrders9',\n",
       " 'BidSizeAdded9',\n",
       " 'BidSizeRemoved9',\n",
       " 'BidOrdersAdded9',\n",
       " 'BidOrdersRemoved9',\n",
       " 'AskPrice9',\n",
       " 'AskSize9',\n",
       " 'AskOrders9',\n",
       " 'AskLevelPrevPrice9',\n",
       " 'AskLevelPrevSize9',\n",
       " 'AskLevelPrevOrders9',\n",
       " 'AskSizeAdded9',\n",
       " 'AskSizeRemoved9',\n",
       " 'AskOrdersAdded9',\n",
       " 'AskOrdersRemoved9',\n",
       " 'EventType9',\n",
       " 'BidPrice10',\n",
       " 'BidSize10',\n",
       " 'BidOrders10',\n",
       " 'BidLevelPrevPrice10',\n",
       " 'BidLevelPrevSize10',\n",
       " 'BidLevelPrevOrders10',\n",
       " 'BidSizeAdded10',\n",
       " 'BidSizeRemoved10',\n",
       " 'BidOrdersAdded10',\n",
       " 'BidOrdersRemoved10',\n",
       " 'AskPrice10',\n",
       " 'AskSize10',\n",
       " 'AskOrders10',\n",
       " 'AskLevelPrevPrice10',\n",
       " 'AskLevelPrevSize10',\n",
       " 'AskLevelPrevOrders10',\n",
       " 'AskSizeAdded10',\n",
       " 'AskSizeRemoved10',\n",
       " 'AskOrdersAdded10',\n",
       " 'AskOrdersRemoved10',\n",
       " 'EventType10',\n",
       " 'BidPrice11',\n",
       " 'BidSize11',\n",
       " 'BidOrders11',\n",
       " 'BidLevelPrevPrice11',\n",
       " 'BidLevelPrevSize11',\n",
       " 'BidLevelPrevOrders11',\n",
       " 'BidSizeAdded11',\n",
       " 'BidSizeRemoved11',\n",
       " 'BidOrdersAdded11',\n",
       " 'BidOrdersRemoved11',\n",
       " 'AskPrice11',\n",
       " 'AskSize11',\n",
       " 'AskOrders11',\n",
       " 'AskLevelPrevPrice11',\n",
       " 'AskLevelPrevSize11',\n",
       " 'AskLevelPrevOrders11',\n",
       " 'AskSizeAdded11',\n",
       " 'AskSizeRemoved11',\n",
       " 'AskOrdersAdded11',\n",
       " 'AskOrdersRemoved11',\n",
       " 'EventType11',\n",
       " 'BidPrice12',\n",
       " 'BidSize12',\n",
       " 'BidOrders12',\n",
       " 'BidLevelPrevPrice12',\n",
       " 'BidLevelPrevSize12',\n",
       " 'BidLevelPrevOrders12',\n",
       " 'BidSizeAdded12',\n",
       " 'BidSizeRemoved12',\n",
       " 'BidOrdersAdded12',\n",
       " 'BidOrdersRemoved12',\n",
       " 'AskPrice12',\n",
       " 'AskSize12',\n",
       " 'AskOrders12',\n",
       " 'AskLevelPrevPrice12',\n",
       " 'AskLevelPrevSize12',\n",
       " 'AskLevelPrevOrders12',\n",
       " 'AskSizeAdded12',\n",
       " 'AskSizeRemoved12',\n",
       " 'AskOrdersAdded12',\n",
       " 'AskOrdersRemoved12',\n",
       " 'EventType12',\n",
       " 'BidPrice13',\n",
       " 'BidSize13',\n",
       " 'BidOrders13',\n",
       " 'BidLevelPrevPrice13',\n",
       " 'BidLevelPrevSize13',\n",
       " 'BidLevelPrevOrders13',\n",
       " 'BidSizeAdded13',\n",
       " 'BidSizeRemoved13',\n",
       " 'BidOrdersAdded13',\n",
       " 'BidOrdersRemoved13',\n",
       " 'AskPrice13',\n",
       " 'AskSize13',\n",
       " 'AskOrders13',\n",
       " 'AskLevelPrevPrice13',\n",
       " 'AskLevelPrevSize13',\n",
       " 'AskLevelPrevOrders13',\n",
       " 'AskSizeAdded13',\n",
       " 'AskSizeRemoved13',\n",
       " 'AskOrdersAdded13',\n",
       " 'AskOrdersRemoved13',\n",
       " 'EventType13',\n",
       " 'BidPrice14',\n",
       " 'BidSize14',\n",
       " 'BidOrders14',\n",
       " 'BidLevelPrevPrice14',\n",
       " 'BidLevelPrevSize14',\n",
       " 'BidLevelPrevOrders14',\n",
       " 'BidSizeAdded14',\n",
       " 'BidSizeRemoved14',\n",
       " 'BidOrdersAdded14',\n",
       " 'BidOrdersRemoved14',\n",
       " 'AskPrice14',\n",
       " 'AskSize14',\n",
       " 'AskOrders14',\n",
       " 'AskLevelPrevPrice14',\n",
       " 'AskLevelPrevSize14',\n",
       " 'AskLevelPrevOrders14',\n",
       " 'AskSizeAdded14',\n",
       " 'AskSizeRemoved14',\n",
       " 'AskOrdersAdded14',\n",
       " 'AskOrdersRemoved14',\n",
       " 'EventType14',\n",
       " 'BidPrice15',\n",
       " 'BidSize15',\n",
       " 'BidOrders15',\n",
       " 'BidLevelPrevPrice15',\n",
       " 'BidLevelPrevSize15',\n",
       " 'BidLevelPrevOrders15',\n",
       " 'BidSizeAdded15',\n",
       " 'BidSizeRemoved15',\n",
       " 'BidOrdersAdded15',\n",
       " 'BidOrdersRemoved15',\n",
       " 'AskPrice15',\n",
       " 'AskSize15',\n",
       " 'AskOrders15',\n",
       " 'AskLevelPrevPrice15',\n",
       " 'AskLevelPrevSize15',\n",
       " 'AskLevelPrevOrders15',\n",
       " 'AskSizeAdded15',\n",
       " 'AskSizeRemoved15',\n",
       " 'AskOrdersAdded15',\n",
       " 'AskOrdersRemoved15',\n",
       " 'EventType15',\n",
       " 'BidPrice16',\n",
       " 'BidSize16',\n",
       " 'BidOrders16',\n",
       " 'BidLevelPrevPrice16',\n",
       " 'BidLevelPrevSize16',\n",
       " 'BidLevelPrevOrders16',\n",
       " 'BidSizeAdded16',\n",
       " 'BidSizeRemoved16',\n",
       " 'BidOrdersAdded16',\n",
       " 'BidOrdersRemoved16',\n",
       " 'AskPrice16',\n",
       " 'AskSize16',\n",
       " 'AskOrders16',\n",
       " 'AskLevelPrevPrice16',\n",
       " 'AskLevelPrevSize16',\n",
       " 'AskLevelPrevOrders16',\n",
       " 'AskSizeAdded16',\n",
       " 'AskSizeRemoved16',\n",
       " 'AskOrdersAdded16',\n",
       " 'AskOrdersRemoved16',\n",
       " 'EventType16',\n",
       " 'BidPrice17',\n",
       " 'BidSize17',\n",
       " 'BidOrders17',\n",
       " 'BidLevelPrevPrice17',\n",
       " 'BidLevelPrevSize17',\n",
       " 'BidLevelPrevOrders17',\n",
       " 'BidSizeAdded17',\n",
       " 'BidSizeRemoved17',\n",
       " 'BidOrdersAdded17',\n",
       " 'BidOrdersRemoved17',\n",
       " 'AskPrice17',\n",
       " 'AskSize17',\n",
       " 'AskOrders17',\n",
       " 'AskLevelPrevPrice17',\n",
       " 'AskLevelPrevSize17',\n",
       " 'AskLevelPrevOrders17',\n",
       " 'AskSizeAdded17',\n",
       " 'AskSizeRemoved17',\n",
       " 'AskOrdersAdded17',\n",
       " 'AskOrdersRemoved17',\n",
       " 'EventType17',\n",
       " 'BidPrice18',\n",
       " 'BidSize18',\n",
       " 'BidOrders18',\n",
       " 'BidLevelPrevPrice18',\n",
       " 'BidLevelPrevSize18',\n",
       " 'BidLevelPrevOrders18',\n",
       " 'BidSizeAdded18',\n",
       " 'BidSizeRemoved18',\n",
       " 'BidOrdersAdded18',\n",
       " 'BidOrdersRemoved18',\n",
       " 'AskPrice18',\n",
       " 'AskSize18',\n",
       " 'AskOrders18',\n",
       " 'AskLevelPrevPrice18',\n",
       " 'AskLevelPrevSize18',\n",
       " 'AskLevelPrevOrders18',\n",
       " 'AskSizeAdded18',\n",
       " 'AskSizeRemoved18',\n",
       " 'AskOrdersAdded18',\n",
       " 'AskOrdersRemoved18',\n",
       " 'EventType18',\n",
       " 'BidPrice19',\n",
       " 'BidSize19',\n",
       " 'BidOrders19',\n",
       " 'BidLevelPrevPrice19',\n",
       " 'BidLevelPrevSize19',\n",
       " 'BidLevelPrevOrders19',\n",
       " 'BidSizeAdded19',\n",
       " 'BidSizeRemoved19',\n",
       " 'BidOrdersAdded19',\n",
       " 'BidOrdersRemoved19',\n",
       " 'AskPrice19',\n",
       " 'AskSize19',\n",
       " 'AskOrders19',\n",
       " 'AskLevelPrevPrice19',\n",
       " 'AskLevelPrevSize19',\n",
       " 'AskLevelPrevOrders19',\n",
       " 'AskSizeAdded19',\n",
       " 'AskSizeRemoved19',\n",
       " 'AskOrdersAdded19',\n",
       " 'AskOrdersRemoved19',\n",
       " 'EventType19',\n",
       " 'TradePricesCount',\n",
       " 'TradeQuantityTotal',\n",
       " 'TradeCount',\n",
       " 'OrdersFilled',\n",
       " 'TradeNumber',\n",
       " 'TradePrice',\n",
       " 'TradeQuantity',\n",
       " 'TradeType',\n",
       " 'TradeSide',\n",
       " 'FirstTradePrice',\n",
       " 'LastTradePrice',\n",
       " 'HighTradePrice',\n",
       " 'LowTradePrice',\n",
       " 'AverageTradePrice',\n",
       " 'LastTradedVolume',\n",
       " 'AverageVolume',\n",
       " 'OnMarketVolume',\n",
       " 'OffMarketVolume',\n",
       " 'TstTradeCount',\n",
       " 'event_id',\n",
       " 'shift_tradeside']"
      ]
     },
     "execution_count": 8,
     "metadata": {},
     "output_type": "execute_result"
    }
   ],
   "source": [
    "df.columns.tolist()"
   ]
  }
 ],
 "metadata": {
  "kernelspec": {
   "display_name": "Python 3",
   "language": "python",
   "name": "python3"
  },
  "language_info": {
   "codemirror_mode": {
    "name": "ipython",
    "version": 3
   },
   "file_extension": ".py",
   "mimetype": "text/x-python",
   "name": "python",
   "nbconvert_exporter": "python",
   "pygments_lexer": "ipython3",
   "version": "3.13.1"
  }
 },
 "nbformat": 4,
 "nbformat_minor": 5
}
